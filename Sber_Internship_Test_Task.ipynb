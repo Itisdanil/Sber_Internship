{
 "cells": [
  {
   "cell_type": "markdown",
   "metadata": {
    "id": "wgcrXhXF2hdx"
   },
   "source": [
    "### **Задание №1**. Предположим, что у вас в базе есть табличка с балансом по всем счетам клиента на конец дня. Из-за особенностей построения таблицы, часть значений незаполнена и физически это означает отсутствие информации об изменении баланса. Для простоты будем считать, пропущенные значения для одного пользователя не могут встретиться между двумя заполненными. Напишите SQL запрос для заполнения неизвестных значений по каждому клиенту последним известным.\n",
    "\n",
    "client_id |date | value\n",
    "--- | --- | ---\n",
    "1 | 14.04.2020 | 10000\n",
    "1 | 15.04.2020 | 5000\n",
    "1 | 16.04.2020 | NaN\n",
    "1 | 17.04.2020 | NaN\n",
    "1 | 18.04.2020 | NaN\n",
    "2 | 14.04.2020 | 250000\n",
    "2 | 15.04.2020 | 250000\n",
    "2 | 16.04.2020 | 230000\n",
    "2 | 17.04.2020 | 230000\n",
    "2 | 18.04.2020 | 225000\n",
    "3 | 14.04.2020 | 50000\n",
    "3 | 15.04.2020 | NaN\n",
    "3 | 16.04.2020 | NaN\n",
    "3 | 17.04.2020 | NaN\n",
    "3 | 18.04.2020 | NaN\n"
   ]
  },
  {
   "cell_type": "code",
   "execution_count": null,
   "metadata": {
    "id": "319frI6r16vt"
   },
   "outputs": [],
   "source": [
    "UPDATE client\n",
    "SET value = (@v := COALESCE(value, @v))\n",
    "ORDER BY client_id;"
   ]
  },
  {
   "cell_type": "markdown",
   "metadata": {
    "id": "_yUfDCEt_dOa"
   },
   "source": [
    "#### Результат:\n",
    "client_id |date | value\n",
    "--- | --- | ---\n",
    "1 | 14.04.2020 | 10000\n",
    "1 | 15.04.2020 | 5000\n",
    "1 | 16.04.2020 | 5000\n",
    "1 | 17.04.2020 | 5000\n",
    "1 | 18.04.2020 | 5000\n",
    "2 | 14.04.2020 | 250000\n",
    "2 | 15.04.2020 | 250000\n",
    "2 | 16.04.2020 | 230000\n",
    "2 | 17.04.2020 | 230000\n",
    "2 | 18.04.2020 | 225000\n",
    "3 | 14.04.2020 | 50000\n",
    "3 | 15.04.2020 | 50000\n",
    "3 | 16.04.2020 | 50000\n",
    "3 | 17.04.2020 | 50000\n",
    "3 | 18.04.2020 | 50000"
   ]
  },
  {
   "cell_type": "markdown",
   "metadata": {
    "id": "_KG06CvbJZbJ"
   },
   "source": [
    "### **Задание №1.1 (*)**. В прошлом задании мы считали, что пропущенные значения не могут находиться между двумя заполненными в рамках одного пользователя, что не всегда правда в реальных задачах. Напишите теперь SQL запрос без указанного допущения.\n",
    "\n",
    "client_id |date | value\n",
    "--- | --- | ---\n",
    "1 | 14.04.2020 | 10000\n",
    "1 | 15.04.2020 | 5000\n",
    "1 | 16.04.2020 | NaN\n",
    "1 | 17.04.2020 | 7000\n",
    "1 | 18.04.2020 | NaN\n",
    "2 | 14.04.2020 | 250000\n",
    "2 | 15.04.2020 | 250000\n",
    "2 | 16.04.2020 | 230000\n",
    "2 | 17.04.2020 | 230000\n",
    "2 | 18.04.2020 | 225000\n",
    "3 | 14.04.2020 | 50000\n",
    "3 | 15.04.2020 | NaN\n",
    "3 | 16.04.2020 | NaN\n",
    "3 | 17.04.2020 | 49000\n",
    "3 | 18.04.2020 | NaN"
   ]
  },
  {
   "cell_type": "markdown",
   "metadata": {
    "id": "XTfky_kvqtvf"
   },
   "source": [
    "Отберем последние известные значения для каждого клиента:"
   ]
  },
  {
   "cell_type": "code",
   "execution_count": null,
   "metadata": {
    "id": "4Ewa2qV8qHEr"
   },
   "outputs": [],
   "source": [
    "CREATE TABLE new_table LIKE client;\n",
    "INSERT INTO new_table\n",
    "SELECT *\n",
    "FROM (SELECT *\n",
    "      FROM client\n",
    "      WHERE value IS NOT NULL) AS t\n",
    "WHERE (t.client_id, t.data) IN (SELECT t.client_id, MAX(t.data) FROM (SELECT *\n",
    "      FROM client\n",
    "      WHERE value IS NOT NULL) AS t GROUP BY t.client_id);"
   ]
  },
  {
   "cell_type": "markdown",
   "metadata": {
    "id": "5CqjRSYtqcMp"
   },
   "source": [
    "Вот так выглядит new_table:"
   ]
  },
  {
   "cell_type": "markdown",
   "metadata": {
    "id": "E5tOcNQPrOMh"
   },
   "source": [
    "client_id |date | value\n",
    "--- | --- | ---\n",
    "1 | 17.04.2020 | 7000\n",
    "2 | 18.04.2020 | 225000\n",
    "3 | 17.04.2020 | 49000"
   ]
  },
  {
   "cell_type": "markdown",
   "metadata": {
    "id": "RMtOJ0Y9qjEQ"
   },
   "source": [
    "Запрос на заполнение Null последним известным значением для клиента:"
   ]
  },
  {
   "cell_type": "code",
   "execution_count": null,
   "metadata": {
    "id": "y39pOtGaJYyL"
   },
   "outputs": [],
   "source": [
    "UPDATE client AS c1, new_table AS c2\n",
    "SET c1.value = c2.value\n",
    "WHERE c1.value IS NULL AND c1.client_id = c2.client_id;"
   ]
  },
  {
   "cell_type": "markdown",
   "metadata": {
    "id": "bEZ18rl3rme2"
   },
   "source": [
    "#### Результат\n",
    "client_id |date | value\n",
    "--- | --- | ---\n",
    "1 | 14.04.2020 | 10000\n",
    "1 | 15.04.2020 | 5000\n",
    "1 | 16.04.2020 | 7000\n",
    "1 | 17.04.2020 | 7000\n",
    "1 | 18.04.2020 | 7000\n",
    "2 | 14.04.2020 | 250000\n",
    "2 | 15.04.2020 | 250000\n",
    "2 | 16.04.2020 | 230000\n",
    "2 | 17.04.2020 | 230000\n",
    "2 | 18.04.2020 | 225000\n",
    "3 | 14.04.2020 | 50000\n",
    "3 | 15.04.2020 | 49000\n",
    "3 | 16.04.2020 | 49000\n",
    "3 | 17.04.2020 | 49000\n",
    "3 | 18.04.2020 | 49000"
   ]
  },
  {
   "cell_type": "markdown",
   "metadata": {
    "id": "wJpKlNtb5hro"
   },
   "source": [
    "### **Задание №2**. Пусть клиенты обладают рядом статусов, закодированных цифрами: 0 - \"улица\", 1 - \"зарплатник\", 2 - \"премиум\", 3 - \"пенсионер\", 4 - \"студент\". У нас есть матрица с логами смен статусов за некоторый период, разверните ее в матрицу статус - статус с частотами перехода между ними.\n",
    "\n",
    "Пример, как было:\n",
    "\n",
    "client_id | prev_segment | new_segment|\n",
    "--- | --- | ---\n",
    "1 | 0 | 1\n",
    "2 | 0 | 2\n",
    "3 | 4 | 3\n",
    "\n",
    "Пример, как нужно:\n",
    "\n",
    "segment |0 | 1 | 2 | 3 | 4 \n",
    "--- | --- | --- | --- | --- | ---\n",
    "0 | 0 | 0.5 | 0.5 | 0 | 0 \n",
    "1 | 0 |0 | 0 | 0 | 0\n",
    "2 | 0 | 0 | 0 | 0 | 0\n",
    "3 | 0 | 0 | 0 | 0 | 0\n",
    "4 | 0 | 0 | 0 | 1 | 0\n",
    "\n",
    "В процессе выполнения задания разрешается пользоваться библиотеками numpy и pandas."
   ]
  },
  {
   "cell_type": "code",
   "execution_count": null,
   "metadata": {
    "colab": {
     "base_uri": "https://localhost:8080/",
     "height": 223
    },
    "id": "6Go_dImd5hEt",
    "outputId": "f7231dde-2937-42df-dd92-22fde5f2faab"
   },
   "outputs": [
    {
     "data": {
      "text/html": [
       "<div>\n",
       "<style scoped>\n",
       "    .dataframe tbody tr th:only-of-type {\n",
       "        vertical-align: middle;\n",
       "    }\n",
       "\n",
       "    .dataframe tbody tr th {\n",
       "        vertical-align: top;\n",
       "    }\n",
       "\n",
       "    .dataframe thead th {\n",
       "        text-align: right;\n",
       "    }\n",
       "</style>\n",
       "<table border=\"1\" class=\"dataframe\">\n",
       "  <thead>\n",
       "    <tr style=\"text-align: right;\">\n",
       "      <th></th>\n",
       "      <th>0</th>\n",
       "      <th>1</th>\n",
       "      <th>2</th>\n",
       "      <th>3</th>\n",
       "      <th>4</th>\n",
       "    </tr>\n",
       "    <tr>\n",
       "      <th>segment</th>\n",
       "      <th></th>\n",
       "      <th></th>\n",
       "      <th></th>\n",
       "      <th></th>\n",
       "      <th></th>\n",
       "    </tr>\n",
       "  </thead>\n",
       "  <tbody>\n",
       "    <tr>\n",
       "      <th>0</th>\n",
       "      <td>0.201442</td>\n",
       "      <td>0.200640</td>\n",
       "      <td>0.198504</td>\n",
       "      <td>0.199216</td>\n",
       "      <td>0.200198</td>\n",
       "    </tr>\n",
       "    <tr>\n",
       "      <th>1</th>\n",
       "      <td>0.201521</td>\n",
       "      <td>0.201941</td>\n",
       "      <td>0.199930</td>\n",
       "      <td>0.198509</td>\n",
       "      <td>0.198099</td>\n",
       "    </tr>\n",
       "    <tr>\n",
       "      <th>2</th>\n",
       "      <td>0.199727</td>\n",
       "      <td>0.201232</td>\n",
       "      <td>0.200690</td>\n",
       "      <td>0.199406</td>\n",
       "      <td>0.198945</td>\n",
       "    </tr>\n",
       "    <tr>\n",
       "      <th>3</th>\n",
       "      <td>0.201119</td>\n",
       "      <td>0.198376</td>\n",
       "      <td>0.198964</td>\n",
       "      <td>0.202327</td>\n",
       "      <td>0.199214</td>\n",
       "    </tr>\n",
       "    <tr>\n",
       "      <th>4</th>\n",
       "      <td>0.201775</td>\n",
       "      <td>0.199564</td>\n",
       "      <td>0.201028</td>\n",
       "      <td>0.198060</td>\n",
       "      <td>0.199574</td>\n",
       "    </tr>\n",
       "  </tbody>\n",
       "</table>\n",
       "</div>"
      ],
      "text/plain": [
       "                0         1         2         3         4\n",
       "segment                                                  \n",
       "0        0.201442  0.200640  0.198504  0.199216  0.200198\n",
       "1        0.201521  0.201941  0.199930  0.198509  0.198099\n",
       "2        0.199727  0.201232  0.200690  0.199406  0.198945\n",
       "3        0.201119  0.198376  0.198964  0.202327  0.199214\n",
       "4        0.201775  0.199564  0.201028  0.198060  0.199574"
      ]
     },
     "execution_count": 1,
     "metadata": {
      "tags": []
     },
     "output_type": "execute_result"
    }
   ],
   "source": [
    "import numpy as np\n",
    "import pandas as pd\n",
    "\n",
    "\n",
    "# Сгенерируем данные для задачи\n",
    "data = pd.DataFrame(\n",
    "     np.random.randint(low=0, high=5, size=(500000, 2)),\n",
    "     columns=['prev_segment', 'new_segment']\n",
    ")\n",
    "\n",
    "df = pd.crosstab(data.prev_segment,\n",
    "            data.new_segment,\n",
    "            normalize='index')\n",
    "df.columns = ['0', '1', '2', '3', '4']\n",
    "df.index.names = ['segment']\n",
    "df"
   ]
  },
  {
   "cell_type": "markdown",
   "metadata": {
    "id": "PCmozMhqNoys"
   },
   "source": [
    "### **Задание №3**. Постройте прогнозую модель для датасета с UCI Machine Learning: предобработайте категориальные фичи, отберите их, соберите схему валидации и отберите модели с помощью нее. Описание датасета по ссылке: https://archive.ics.uci.edu/ml/datasets/Drug+consumption+%28quantified%29\n",
    "\n",
    "Данная задача multilabel multiclass classification, поэтому предлагаю начать с одного из подходов:\n",
    "- Свести задачу к multilabel binary classification, как это указано в описании к датасету;\n",
    "- Свести задачку к binary classification тем или иным способом;\n",
    "- Обучить множество multiclass/binary classification моделей;\n",
    "- Что-то еще, что придет в голову.\n"
   ]
  },
  {
   "cell_type": "code",
   "execution_count": null,
   "metadata": {
    "colab": {
     "base_uri": "https://localhost:8080/"
    },
    "id": "99wiNQQ5Nn2U",
    "outputId": "b3213030-3bc8-4561-a4e8-1decf07d6c50"
   },
   "outputs": [
    {
     "name": "stdout",
     "output_type": "stream",
     "text": [
      "--2021-07-26 14:15:13--  https://archive.ics.uci.edu/ml/machine-learning-databases/00373/drug_consumption.data\n",
      "Resolving archive.ics.uci.edu (archive.ics.uci.edu)... 128.195.10.252\n",
      "Connecting to archive.ics.uci.edu (archive.ics.uci.edu)|128.195.10.252|:443... connected.\n",
      "HTTP request sent, awaiting response... 200 OK\n",
      "Length: 346695 (339K) [application/x-httpd-php]\n",
      "Saving to: ‘drug_consumption.data.13’\n",
      "\n",
      "drug_consumption.da 100%[===================>] 338.57K  1.26MB/s    in 0.3s    \n",
      "\n",
      "2021-07-26 14:15:14 (1.26 MB/s) - ‘drug_consumption.data.13’ saved [346695/346695]\n",
      "\n"
     ]
    }
   ],
   "source": [
    "!wget https://archive.ics.uci.edu/ml/machine-learning-databases/00373/drug_consumption.data"
   ]
  },
  {
   "cell_type": "code",
   "execution_count": null,
   "metadata": {
    "id": "neNnoFXMOEMT"
   },
   "outputs": [],
   "source": [
    "import numpy as np\n",
    "import pandas as pd\n",
    "import matplotlib.pyplot as plt\n",
    "import warnings\n",
    "import seaborn as sns\n",
    "from sklearn.linear_model import LogisticRegression\n",
    "from sklearn.ensemble import RandomForestClassifier\n",
    "from catboost import CatBoostClassifier\n",
    "from sklearn.model_selection import train_test_split\n",
    "from xgboost import XGBClassifier\n",
    "from lightgbm import LGBMClassifier\n",
    "from sklearn import preprocessing\n",
    "from sklearn.metrics import precision_score\n",
    "warnings.filterwarnings(\"ignore\")\n",
    "plt.style.use(style='ggplot')"
   ]
  },
  {
   "cell_type": "code",
   "execution_count": null,
   "metadata": {
    "colab": {
     "base_uri": "https://localhost:8080/",
     "height": 243
    },
    "id": "lOsvJKfbNRN4",
    "outputId": "19fb2d21-3e29-403e-d321-9241dd5a832c"
   },
   "outputs": [
    {
     "data": {
      "text/html": [
       "<div>\n",
       "<style scoped>\n",
       "    .dataframe tbody tr th:only-of-type {\n",
       "        vertical-align: middle;\n",
       "    }\n",
       "\n",
       "    .dataframe tbody tr th {\n",
       "        vertical-align: top;\n",
       "    }\n",
       "\n",
       "    .dataframe thead th {\n",
       "        text-align: right;\n",
       "    }\n",
       "</style>\n",
       "<table border=\"1\" class=\"dataframe\">\n",
       "  <thead>\n",
       "    <tr style=\"text-align: right;\">\n",
       "      <th></th>\n",
       "      <th>1</th>\n",
       "      <th>2</th>\n",
       "      <th>3</th>\n",
       "      <th>4</th>\n",
       "      <th>5</th>\n",
       "      <th>6</th>\n",
       "      <th>7</th>\n",
       "      <th>8</th>\n",
       "      <th>9</th>\n",
       "      <th>10</th>\n",
       "      <th>11</th>\n",
       "      <th>12</th>\n",
       "      <th>13</th>\n",
       "      <th>14</th>\n",
       "      <th>15</th>\n",
       "      <th>16</th>\n",
       "      <th>17</th>\n",
       "      <th>18</th>\n",
       "      <th>19</th>\n",
       "      <th>20</th>\n",
       "      <th>21</th>\n",
       "      <th>22</th>\n",
       "      <th>23</th>\n",
       "      <th>24</th>\n",
       "      <th>25</th>\n",
       "      <th>26</th>\n",
       "      <th>27</th>\n",
       "      <th>28</th>\n",
       "      <th>29</th>\n",
       "      <th>30</th>\n",
       "      <th>31</th>\n",
       "    </tr>\n",
       "    <tr>\n",
       "      <th>0</th>\n",
       "      <th></th>\n",
       "      <th></th>\n",
       "      <th></th>\n",
       "      <th></th>\n",
       "      <th></th>\n",
       "      <th></th>\n",
       "      <th></th>\n",
       "      <th></th>\n",
       "      <th></th>\n",
       "      <th></th>\n",
       "      <th></th>\n",
       "      <th></th>\n",
       "      <th></th>\n",
       "      <th></th>\n",
       "      <th></th>\n",
       "      <th></th>\n",
       "      <th></th>\n",
       "      <th></th>\n",
       "      <th></th>\n",
       "      <th></th>\n",
       "      <th></th>\n",
       "      <th></th>\n",
       "      <th></th>\n",
       "      <th></th>\n",
       "      <th></th>\n",
       "      <th></th>\n",
       "      <th></th>\n",
       "      <th></th>\n",
       "      <th></th>\n",
       "      <th></th>\n",
       "      <th></th>\n",
       "    </tr>\n",
       "  </thead>\n",
       "  <tbody>\n",
       "    <tr>\n",
       "      <th>1</th>\n",
       "      <td>0.49788</td>\n",
       "      <td>0.48246</td>\n",
       "      <td>-0.05921</td>\n",
       "      <td>0.96082</td>\n",
       "      <td>0.12600</td>\n",
       "      <td>0.31287</td>\n",
       "      <td>-0.57545</td>\n",
       "      <td>-0.58331</td>\n",
       "      <td>-0.91699</td>\n",
       "      <td>-0.00665</td>\n",
       "      <td>-0.21712</td>\n",
       "      <td>-1.18084</td>\n",
       "      <td>CL5</td>\n",
       "      <td>CL2</td>\n",
       "      <td>CL0</td>\n",
       "      <td>CL2</td>\n",
       "      <td>CL6</td>\n",
       "      <td>CL0</td>\n",
       "      <td>CL5</td>\n",
       "      <td>CL0</td>\n",
       "      <td>CL0</td>\n",
       "      <td>CL0</td>\n",
       "      <td>CL0</td>\n",
       "      <td>CL0</td>\n",
       "      <td>CL0</td>\n",
       "      <td>CL0</td>\n",
       "      <td>CL0</td>\n",
       "      <td>CL0</td>\n",
       "      <td>CL2</td>\n",
       "      <td>CL0</td>\n",
       "      <td>CL0</td>\n",
       "    </tr>\n",
       "    <tr>\n",
       "      <th>2</th>\n",
       "      <td>-0.07854</td>\n",
       "      <td>-0.48246</td>\n",
       "      <td>1.98437</td>\n",
       "      <td>0.96082</td>\n",
       "      <td>-0.31685</td>\n",
       "      <td>-0.67825</td>\n",
       "      <td>1.93886</td>\n",
       "      <td>1.43533</td>\n",
       "      <td>0.76096</td>\n",
       "      <td>-0.14277</td>\n",
       "      <td>-0.71126</td>\n",
       "      <td>-0.21575</td>\n",
       "      <td>CL5</td>\n",
       "      <td>CL2</td>\n",
       "      <td>CL2</td>\n",
       "      <td>CL0</td>\n",
       "      <td>CL6</td>\n",
       "      <td>CL4</td>\n",
       "      <td>CL6</td>\n",
       "      <td>CL3</td>\n",
       "      <td>CL0</td>\n",
       "      <td>CL4</td>\n",
       "      <td>CL0</td>\n",
       "      <td>CL2</td>\n",
       "      <td>CL0</td>\n",
       "      <td>CL2</td>\n",
       "      <td>CL3</td>\n",
       "      <td>CL0</td>\n",
       "      <td>CL4</td>\n",
       "      <td>CL0</td>\n",
       "      <td>CL0</td>\n",
       "    </tr>\n",
       "    <tr>\n",
       "      <th>3</th>\n",
       "      <td>0.49788</td>\n",
       "      <td>-0.48246</td>\n",
       "      <td>-0.05921</td>\n",
       "      <td>0.96082</td>\n",
       "      <td>-0.31685</td>\n",
       "      <td>-0.46725</td>\n",
       "      <td>0.80523</td>\n",
       "      <td>-0.84732</td>\n",
       "      <td>-1.62090</td>\n",
       "      <td>-1.01450</td>\n",
       "      <td>-1.37983</td>\n",
       "      <td>0.40148</td>\n",
       "      <td>CL6</td>\n",
       "      <td>CL0</td>\n",
       "      <td>CL0</td>\n",
       "      <td>CL0</td>\n",
       "      <td>CL6</td>\n",
       "      <td>CL3</td>\n",
       "      <td>CL4</td>\n",
       "      <td>CL0</td>\n",
       "      <td>CL0</td>\n",
       "      <td>CL0</td>\n",
       "      <td>CL0</td>\n",
       "      <td>CL0</td>\n",
       "      <td>CL0</td>\n",
       "      <td>CL0</td>\n",
       "      <td>CL0</td>\n",
       "      <td>CL1</td>\n",
       "      <td>CL0</td>\n",
       "      <td>CL0</td>\n",
       "      <td>CL0</td>\n",
       "    </tr>\n",
       "    <tr>\n",
       "      <th>4</th>\n",
       "      <td>-0.95197</td>\n",
       "      <td>0.48246</td>\n",
       "      <td>1.16365</td>\n",
       "      <td>0.96082</td>\n",
       "      <td>-0.31685</td>\n",
       "      <td>-0.14882</td>\n",
       "      <td>-0.80615</td>\n",
       "      <td>-0.01928</td>\n",
       "      <td>0.59042</td>\n",
       "      <td>0.58489</td>\n",
       "      <td>-1.37983</td>\n",
       "      <td>-1.18084</td>\n",
       "      <td>CL4</td>\n",
       "      <td>CL0</td>\n",
       "      <td>CL0</td>\n",
       "      <td>CL3</td>\n",
       "      <td>CL5</td>\n",
       "      <td>CL2</td>\n",
       "      <td>CL4</td>\n",
       "      <td>CL2</td>\n",
       "      <td>CL0</td>\n",
       "      <td>CL0</td>\n",
       "      <td>CL0</td>\n",
       "      <td>CL2</td>\n",
       "      <td>CL0</td>\n",
       "      <td>CL0</td>\n",
       "      <td>CL0</td>\n",
       "      <td>CL0</td>\n",
       "      <td>CL2</td>\n",
       "      <td>CL0</td>\n",
       "      <td>CL0</td>\n",
       "    </tr>\n",
       "    <tr>\n",
       "      <th>5</th>\n",
       "      <td>0.49788</td>\n",
       "      <td>0.48246</td>\n",
       "      <td>1.98437</td>\n",
       "      <td>0.96082</td>\n",
       "      <td>-0.31685</td>\n",
       "      <td>0.73545</td>\n",
       "      <td>-1.63340</td>\n",
       "      <td>-0.45174</td>\n",
       "      <td>-0.30172</td>\n",
       "      <td>1.30612</td>\n",
       "      <td>-0.21712</td>\n",
       "      <td>-0.21575</td>\n",
       "      <td>CL4</td>\n",
       "      <td>CL1</td>\n",
       "      <td>CL1</td>\n",
       "      <td>CL0</td>\n",
       "      <td>CL6</td>\n",
       "      <td>CL3</td>\n",
       "      <td>CL6</td>\n",
       "      <td>CL0</td>\n",
       "      <td>CL0</td>\n",
       "      <td>CL1</td>\n",
       "      <td>CL0</td>\n",
       "      <td>CL0</td>\n",
       "      <td>CL1</td>\n",
       "      <td>CL0</td>\n",
       "      <td>CL0</td>\n",
       "      <td>CL2</td>\n",
       "      <td>CL2</td>\n",
       "      <td>CL0</td>\n",
       "      <td>CL0</td>\n",
       "    </tr>\n",
       "  </tbody>\n",
       "</table>\n",
       "</div>"
      ],
      "text/plain": [
       "        1        2        3        4        5   ...   27   28   29   30   31\n",
       "0                                               ...                         \n",
       "1  0.49788  0.48246 -0.05921  0.96082  0.12600  ...  CL0  CL0  CL2  CL0  CL0\n",
       "2 -0.07854 -0.48246  1.98437  0.96082 -0.31685  ...  CL3  CL0  CL4  CL0  CL0\n",
       "3  0.49788 -0.48246 -0.05921  0.96082 -0.31685  ...  CL0  CL1  CL0  CL0  CL0\n",
       "4 -0.95197  0.48246  1.16365  0.96082 -0.31685  ...  CL0  CL0  CL2  CL0  CL0\n",
       "5  0.49788  0.48246  1.98437  0.96082 -0.31685  ...  CL0  CL2  CL2  CL0  CL0\n",
       "\n",
       "[5 rows x 31 columns]"
      ]
     },
     "execution_count": 3,
     "metadata": {
      "tags": []
     },
     "output_type": "execute_result"
    }
   ],
   "source": [
    "data = pd.read_csv('drug_consumption.data', header=None, index_col=0)\n",
    "data.head()"
   ]
  },
  {
   "cell_type": "code",
   "execution_count": null,
   "metadata": {
    "colab": {
     "base_uri": "https://localhost:8080/"
    },
    "id": "aDybVLgaRsTx",
    "outputId": "4649fc96-53b8-4ca8-d342-cda15e36a5c4"
   },
   "outputs": [
    {
     "name": "stdout",
     "output_type": "stream",
     "text": [
      "<class 'pandas.core.frame.DataFrame'>\n",
      "Int64Index: 1885 entries, 1 to 1888\n",
      "Data columns (total 31 columns):\n",
      " #   Column  Non-Null Count  Dtype  \n",
      "---  ------  --------------  -----  \n",
      " 0   1       1885 non-null   float64\n",
      " 1   2       1885 non-null   float64\n",
      " 2   3       1885 non-null   float64\n",
      " 3   4       1885 non-null   float64\n",
      " 4   5       1885 non-null   float64\n",
      " 5   6       1885 non-null   float64\n",
      " 6   7       1885 non-null   float64\n",
      " 7   8       1885 non-null   float64\n",
      " 8   9       1885 non-null   float64\n",
      " 9   10      1885 non-null   float64\n",
      " 10  11      1885 non-null   float64\n",
      " 11  12      1885 non-null   float64\n",
      " 12  13      1885 non-null   object \n",
      " 13  14      1885 non-null   object \n",
      " 14  15      1885 non-null   object \n",
      " 15  16      1885 non-null   object \n",
      " 16  17      1885 non-null   object \n",
      " 17  18      1885 non-null   object \n",
      " 18  19      1885 non-null   object \n",
      " 19  20      1885 non-null   object \n",
      " 20  21      1885 non-null   object \n",
      " 21  22      1885 non-null   object \n",
      " 22  23      1885 non-null   object \n",
      " 23  24      1885 non-null   object \n",
      " 24  25      1885 non-null   object \n",
      " 25  26      1885 non-null   object \n",
      " 26  27      1885 non-null   object \n",
      " 27  28      1885 non-null   object \n",
      " 28  29      1885 non-null   object \n",
      " 29  30      1885 non-null   object \n",
      " 30  31      1885 non-null   object \n",
      "dtypes: float64(12), object(19)\n",
      "memory usage: 471.2+ KB\n"
     ]
    }
   ],
   "source": [
    "data.info()"
   ]
  },
  {
   "cell_type": "markdown",
   "metadata": {
    "id": "PH76ee6XOPOZ"
   },
   "source": [
    "Пропусков в данных нет"
   ]
  },
  {
   "cell_type": "markdown",
   "metadata": {
    "id": "jIBconbiOSgr"
   },
   "source": [
    "Посмотрим различные статистики"
   ]
  },
  {
   "cell_type": "code",
   "execution_count": null,
   "metadata": {
    "colab": {
     "base_uri": "https://localhost:8080/",
     "height": 282
    },
    "id": "CJrdKouqQ40G",
    "outputId": "a511b60f-6680-4caa-d6e7-44b91c02d277"
   },
   "outputs": [
    {
     "data": {
      "text/html": [
       "<div>\n",
       "<style scoped>\n",
       "    .dataframe tbody tr th:only-of-type {\n",
       "        vertical-align: middle;\n",
       "    }\n",
       "\n",
       "    .dataframe tbody tr th {\n",
       "        vertical-align: top;\n",
       "    }\n",
       "\n",
       "    .dataframe thead th {\n",
       "        text-align: right;\n",
       "    }\n",
       "</style>\n",
       "<table border=\"1\" class=\"dataframe\">\n",
       "  <thead>\n",
       "    <tr style=\"text-align: right;\">\n",
       "      <th></th>\n",
       "      <th>1</th>\n",
       "      <th>2</th>\n",
       "      <th>3</th>\n",
       "      <th>4</th>\n",
       "      <th>5</th>\n",
       "      <th>6</th>\n",
       "      <th>7</th>\n",
       "      <th>8</th>\n",
       "      <th>9</th>\n",
       "      <th>10</th>\n",
       "      <th>11</th>\n",
       "      <th>12</th>\n",
       "    </tr>\n",
       "  </thead>\n",
       "  <tbody>\n",
       "    <tr>\n",
       "      <th>count</th>\n",
       "      <td>1885.00000</td>\n",
       "      <td>1885.000000</td>\n",
       "      <td>1885.000000</td>\n",
       "      <td>1885.000000</td>\n",
       "      <td>1885.000000</td>\n",
       "      <td>1885.000000</td>\n",
       "      <td>1885.000000</td>\n",
       "      <td>1885.000000</td>\n",
       "      <td>1885.000000</td>\n",
       "      <td>1885.000000</td>\n",
       "      <td>1885.000000</td>\n",
       "      <td>1885.000000</td>\n",
       "    </tr>\n",
       "    <tr>\n",
       "      <th>mean</th>\n",
       "      <td>0.03461</td>\n",
       "      <td>-0.000256</td>\n",
       "      <td>-0.003806</td>\n",
       "      <td>0.355542</td>\n",
       "      <td>-0.309577</td>\n",
       "      <td>0.000047</td>\n",
       "      <td>-0.000163</td>\n",
       "      <td>-0.000534</td>\n",
       "      <td>-0.000245</td>\n",
       "      <td>-0.000386</td>\n",
       "      <td>0.007216</td>\n",
       "      <td>-0.003292</td>\n",
       "    </tr>\n",
       "    <tr>\n",
       "      <th>std</th>\n",
       "      <td>0.87836</td>\n",
       "      <td>0.482588</td>\n",
       "      <td>0.950078</td>\n",
       "      <td>0.700335</td>\n",
       "      <td>0.166226</td>\n",
       "      <td>0.998106</td>\n",
       "      <td>0.997448</td>\n",
       "      <td>0.996229</td>\n",
       "      <td>0.997440</td>\n",
       "      <td>0.997523</td>\n",
       "      <td>0.954435</td>\n",
       "      <td>0.963701</td>\n",
       "    </tr>\n",
       "    <tr>\n",
       "      <th>min</th>\n",
       "      <td>-0.95197</td>\n",
       "      <td>-0.482460</td>\n",
       "      <td>-2.435910</td>\n",
       "      <td>-0.570090</td>\n",
       "      <td>-1.107020</td>\n",
       "      <td>-3.464360</td>\n",
       "      <td>-3.273930</td>\n",
       "      <td>-3.273930</td>\n",
       "      <td>-3.464360</td>\n",
       "      <td>-3.464360</td>\n",
       "      <td>-2.555240</td>\n",
       "      <td>-2.078480</td>\n",
       "    </tr>\n",
       "    <tr>\n",
       "      <th>25%</th>\n",
       "      <td>-0.95197</td>\n",
       "      <td>-0.482460</td>\n",
       "      <td>-0.611130</td>\n",
       "      <td>-0.570090</td>\n",
       "      <td>-0.316850</td>\n",
       "      <td>-0.678250</td>\n",
       "      <td>-0.695090</td>\n",
       "      <td>-0.717270</td>\n",
       "      <td>-0.606330</td>\n",
       "      <td>-0.652530</td>\n",
       "      <td>-0.711260</td>\n",
       "      <td>-0.525930</td>\n",
       "    </tr>\n",
       "    <tr>\n",
       "      <th>50%</th>\n",
       "      <td>-0.07854</td>\n",
       "      <td>-0.482460</td>\n",
       "      <td>-0.059210</td>\n",
       "      <td>0.960820</td>\n",
       "      <td>-0.316850</td>\n",
       "      <td>0.042570</td>\n",
       "      <td>0.003320</td>\n",
       "      <td>-0.019280</td>\n",
       "      <td>-0.017290</td>\n",
       "      <td>-0.006650</td>\n",
       "      <td>-0.217120</td>\n",
       "      <td>0.079870</td>\n",
       "    </tr>\n",
       "    <tr>\n",
       "      <th>75%</th>\n",
       "      <td>0.49788</td>\n",
       "      <td>0.482460</td>\n",
       "      <td>0.454680</td>\n",
       "      <td>0.960820</td>\n",
       "      <td>-0.316850</td>\n",
       "      <td>0.629670</td>\n",
       "      <td>0.637790</td>\n",
       "      <td>0.723300</td>\n",
       "      <td>0.760960</td>\n",
       "      <td>0.584890</td>\n",
       "      <td>0.529750</td>\n",
       "      <td>0.765400</td>\n",
       "    </tr>\n",
       "    <tr>\n",
       "      <th>max</th>\n",
       "      <td>2.59171</td>\n",
       "      <td>0.482460</td>\n",
       "      <td>1.984370</td>\n",
       "      <td>0.960820</td>\n",
       "      <td>1.907250</td>\n",
       "      <td>3.273930</td>\n",
       "      <td>3.273930</td>\n",
       "      <td>2.901610</td>\n",
       "      <td>3.464360</td>\n",
       "      <td>3.464360</td>\n",
       "      <td>2.901610</td>\n",
       "      <td>1.921730</td>\n",
       "    </tr>\n",
       "  </tbody>\n",
       "</table>\n",
       "</div>"
      ],
      "text/plain": [
       "               1            2   ...           11           12\n",
       "count  1885.00000  1885.000000  ...  1885.000000  1885.000000\n",
       "mean      0.03461    -0.000256  ...     0.007216    -0.003292\n",
       "std       0.87836     0.482588  ...     0.954435     0.963701\n",
       "min      -0.95197    -0.482460  ...    -2.555240    -2.078480\n",
       "25%      -0.95197    -0.482460  ...    -0.711260    -0.525930\n",
       "50%      -0.07854    -0.482460  ...    -0.217120     0.079870\n",
       "75%       0.49788     0.482460  ...     0.529750     0.765400\n",
       "max       2.59171     0.482460  ...     2.901610     1.921730\n",
       "\n",
       "[8 rows x 12 columns]"
      ]
     },
     "execution_count": 5,
     "metadata": {
      "tags": []
     },
     "output_type": "execute_result"
    }
   ],
   "source": [
    "data.describe()"
   ]
  },
  {
   "cell_type": "markdown",
   "metadata": {
    "id": "Ywu_6b6m-9zJ"
   },
   "source": [
    "# Data preprocessing"
   ]
  },
  {
   "cell_type": "code",
   "execution_count": null,
   "metadata": {
    "id": "kYNNbNdKSEjH"
   },
   "outputs": [],
   "source": [
    "columns = ['age', 'gender', 'education', 'country',\n",
    "'ethnicity', 'neuroticism', 'extraversion', 'openness',\n",
    "'agreeableness','conscientiousness', 'impulsiveness', \n",
    "'sensation', 'alcohol', 'amphet', 'amyl', 'benzos', 'caffeine', \n",
    "'cannabis', 'chocolate', 'cocaine', 'crack', 'ecstasy', \n",
    "'heroin', 'ketamine', 'legalh', 'lsd', \n",
    "'meth', 'mushrooms', 'nicotine', 'semer', 'vsa']\n",
    "data.columns = columns"
   ]
  },
  {
   "cell_type": "code",
   "execution_count": null,
   "metadata": {
    "id": "k9rGkJhYPVox"
   },
   "outputs": [],
   "source": [
    "data = data.reset_index(drop=True)"
   ]
  },
  {
   "cell_type": "markdown",
   "metadata": {
    "id": "aFinr3NpSUd9"
   },
   "source": [
    "Сведем задачу к бинарной классификации, будем считать, что если человек не употреблял вещество или употреблял более десяти лет назад (класс 0), то он не наркоман, иначе - человек, болеющий таким заболеванием (класс 1)"
   ]
  },
  {
   "cell_type": "code",
   "execution_count": null,
   "metadata": {
    "id": "A04PjmzpQNuN"
   },
   "outputs": [],
   "source": [
    "data = data.replace({'CL0' : 0, 'CL1' : 0, 'CL2' : 1, 'CL3' : 1, 'CL4' : 1, 'CL5' : 1, 'CL6' : 1})"
   ]
  },
  {
   "cell_type": "code",
   "execution_count": null,
   "metadata": {
    "colab": {
     "base_uri": "https://localhost:8080/",
     "height": 214
    },
    "id": "iW_yDyxBS7Cp",
    "outputId": "1913b396-bc16-4cb8-a7a1-c0d759763f0d"
   },
   "outputs": [
    {
     "data": {
      "text/html": [
       "<div>\n",
       "<style scoped>\n",
       "    .dataframe tbody tr th:only-of-type {\n",
       "        vertical-align: middle;\n",
       "    }\n",
       "\n",
       "    .dataframe tbody tr th {\n",
       "        vertical-align: top;\n",
       "    }\n",
       "\n",
       "    .dataframe thead th {\n",
       "        text-align: right;\n",
       "    }\n",
       "</style>\n",
       "<table border=\"1\" class=\"dataframe\">\n",
       "  <thead>\n",
       "    <tr style=\"text-align: right;\">\n",
       "      <th></th>\n",
       "      <th>age</th>\n",
       "      <th>gender</th>\n",
       "      <th>education</th>\n",
       "      <th>country</th>\n",
       "      <th>ethnicity</th>\n",
       "      <th>neuroticism</th>\n",
       "      <th>extraversion</th>\n",
       "      <th>openness</th>\n",
       "      <th>agreeableness</th>\n",
       "      <th>conscientiousness</th>\n",
       "      <th>impulsiveness</th>\n",
       "      <th>sensation</th>\n",
       "      <th>alcohol</th>\n",
       "      <th>amphet</th>\n",
       "      <th>amyl</th>\n",
       "      <th>benzos</th>\n",
       "      <th>caffeine</th>\n",
       "      <th>cannabis</th>\n",
       "      <th>chocolate</th>\n",
       "      <th>cocaine</th>\n",
       "      <th>crack</th>\n",
       "      <th>ecstasy</th>\n",
       "      <th>heroin</th>\n",
       "      <th>ketamine</th>\n",
       "      <th>legalh</th>\n",
       "      <th>lsd</th>\n",
       "      <th>meth</th>\n",
       "      <th>mushrooms</th>\n",
       "      <th>nicotine</th>\n",
       "      <th>semer</th>\n",
       "      <th>vsa</th>\n",
       "    </tr>\n",
       "  </thead>\n",
       "  <tbody>\n",
       "    <tr>\n",
       "      <th>0</th>\n",
       "      <td>0.49788</td>\n",
       "      <td>0.48246</td>\n",
       "      <td>-0.05921</td>\n",
       "      <td>0.96082</td>\n",
       "      <td>0.12600</td>\n",
       "      <td>0.31287</td>\n",
       "      <td>-0.57545</td>\n",
       "      <td>-0.58331</td>\n",
       "      <td>-0.91699</td>\n",
       "      <td>-0.00665</td>\n",
       "      <td>-0.21712</td>\n",
       "      <td>-1.18084</td>\n",
       "      <td>1</td>\n",
       "      <td>1</td>\n",
       "      <td>0</td>\n",
       "      <td>1</td>\n",
       "      <td>1</td>\n",
       "      <td>0</td>\n",
       "      <td>1</td>\n",
       "      <td>0</td>\n",
       "      <td>0</td>\n",
       "      <td>0</td>\n",
       "      <td>0</td>\n",
       "      <td>0</td>\n",
       "      <td>0</td>\n",
       "      <td>0</td>\n",
       "      <td>0</td>\n",
       "      <td>0</td>\n",
       "      <td>1</td>\n",
       "      <td>0</td>\n",
       "      <td>0</td>\n",
       "    </tr>\n",
       "    <tr>\n",
       "      <th>1</th>\n",
       "      <td>-0.07854</td>\n",
       "      <td>-0.48246</td>\n",
       "      <td>1.98437</td>\n",
       "      <td>0.96082</td>\n",
       "      <td>-0.31685</td>\n",
       "      <td>-0.67825</td>\n",
       "      <td>1.93886</td>\n",
       "      <td>1.43533</td>\n",
       "      <td>0.76096</td>\n",
       "      <td>-0.14277</td>\n",
       "      <td>-0.71126</td>\n",
       "      <td>-0.21575</td>\n",
       "      <td>1</td>\n",
       "      <td>1</td>\n",
       "      <td>1</td>\n",
       "      <td>0</td>\n",
       "      <td>1</td>\n",
       "      <td>1</td>\n",
       "      <td>1</td>\n",
       "      <td>1</td>\n",
       "      <td>0</td>\n",
       "      <td>1</td>\n",
       "      <td>0</td>\n",
       "      <td>1</td>\n",
       "      <td>0</td>\n",
       "      <td>1</td>\n",
       "      <td>1</td>\n",
       "      <td>0</td>\n",
       "      <td>1</td>\n",
       "      <td>0</td>\n",
       "      <td>0</td>\n",
       "    </tr>\n",
       "    <tr>\n",
       "      <th>2</th>\n",
       "      <td>0.49788</td>\n",
       "      <td>-0.48246</td>\n",
       "      <td>-0.05921</td>\n",
       "      <td>0.96082</td>\n",
       "      <td>-0.31685</td>\n",
       "      <td>-0.46725</td>\n",
       "      <td>0.80523</td>\n",
       "      <td>-0.84732</td>\n",
       "      <td>-1.62090</td>\n",
       "      <td>-1.01450</td>\n",
       "      <td>-1.37983</td>\n",
       "      <td>0.40148</td>\n",
       "      <td>1</td>\n",
       "      <td>0</td>\n",
       "      <td>0</td>\n",
       "      <td>0</td>\n",
       "      <td>1</td>\n",
       "      <td>1</td>\n",
       "      <td>1</td>\n",
       "      <td>0</td>\n",
       "      <td>0</td>\n",
       "      <td>0</td>\n",
       "      <td>0</td>\n",
       "      <td>0</td>\n",
       "      <td>0</td>\n",
       "      <td>0</td>\n",
       "      <td>0</td>\n",
       "      <td>0</td>\n",
       "      <td>0</td>\n",
       "      <td>0</td>\n",
       "      <td>0</td>\n",
       "    </tr>\n",
       "    <tr>\n",
       "      <th>3</th>\n",
       "      <td>-0.95197</td>\n",
       "      <td>0.48246</td>\n",
       "      <td>1.16365</td>\n",
       "      <td>0.96082</td>\n",
       "      <td>-0.31685</td>\n",
       "      <td>-0.14882</td>\n",
       "      <td>-0.80615</td>\n",
       "      <td>-0.01928</td>\n",
       "      <td>0.59042</td>\n",
       "      <td>0.58489</td>\n",
       "      <td>-1.37983</td>\n",
       "      <td>-1.18084</td>\n",
       "      <td>1</td>\n",
       "      <td>0</td>\n",
       "      <td>0</td>\n",
       "      <td>1</td>\n",
       "      <td>1</td>\n",
       "      <td>1</td>\n",
       "      <td>1</td>\n",
       "      <td>1</td>\n",
       "      <td>0</td>\n",
       "      <td>0</td>\n",
       "      <td>0</td>\n",
       "      <td>1</td>\n",
       "      <td>0</td>\n",
       "      <td>0</td>\n",
       "      <td>0</td>\n",
       "      <td>0</td>\n",
       "      <td>1</td>\n",
       "      <td>0</td>\n",
       "      <td>0</td>\n",
       "    </tr>\n",
       "    <tr>\n",
       "      <th>4</th>\n",
       "      <td>0.49788</td>\n",
       "      <td>0.48246</td>\n",
       "      <td>1.98437</td>\n",
       "      <td>0.96082</td>\n",
       "      <td>-0.31685</td>\n",
       "      <td>0.73545</td>\n",
       "      <td>-1.63340</td>\n",
       "      <td>-0.45174</td>\n",
       "      <td>-0.30172</td>\n",
       "      <td>1.30612</td>\n",
       "      <td>-0.21712</td>\n",
       "      <td>-0.21575</td>\n",
       "      <td>1</td>\n",
       "      <td>0</td>\n",
       "      <td>0</td>\n",
       "      <td>0</td>\n",
       "      <td>1</td>\n",
       "      <td>1</td>\n",
       "      <td>1</td>\n",
       "      <td>0</td>\n",
       "      <td>0</td>\n",
       "      <td>0</td>\n",
       "      <td>0</td>\n",
       "      <td>0</td>\n",
       "      <td>0</td>\n",
       "      <td>0</td>\n",
       "      <td>0</td>\n",
       "      <td>1</td>\n",
       "      <td>1</td>\n",
       "      <td>0</td>\n",
       "      <td>0</td>\n",
       "    </tr>\n",
       "  </tbody>\n",
       "</table>\n",
       "</div>"
      ],
      "text/plain": [
       "       age   gender  education  country  ...  mushrooms  nicotine  semer  vsa\n",
       "0  0.49788  0.48246   -0.05921  0.96082  ...          0         1      0    0\n",
       "1 -0.07854 -0.48246    1.98437  0.96082  ...          0         1      0    0\n",
       "2  0.49788 -0.48246   -0.05921  0.96082  ...          0         0      0    0\n",
       "3 -0.95197  0.48246    1.16365  0.96082  ...          0         1      0    0\n",
       "4  0.49788  0.48246    1.98437  0.96082  ...          1         1      0    0\n",
       "\n",
       "[5 rows x 31 columns]"
      ]
     },
     "execution_count": 9,
     "metadata": {
      "tags": []
     },
     "output_type": "execute_result"
    }
   ],
   "source": [
    "data.head()"
   ]
  },
  {
   "cell_type": "markdown",
   "metadata": {
    "id": "UZ1_xLCPT-bZ"
   },
   "source": [
    "Можем посмотреть на колонки с веществами и заметить интересную вещь, что в них есть такие вещества как алкоголь, кофеин, который есть в кофе, и шоколад, посмотрим на количество не употреблявших данные вещества людей"
   ]
  },
  {
   "cell_type": "code",
   "execution_count": null,
   "metadata": {
    "colab": {
     "base_uri": "https://localhost:8080/"
    },
    "id": "Xj331hmdU9KU",
    "outputId": "3e71d23c-edf2-4157-8a1e-83f79d3ec375"
   },
   "outputs": [
    {
     "data": {
      "text/plain": [
       "[(35, 'chocolate'),\n",
       " (37, 'caffeine'),\n",
       " (68, 'alcohol'),\n",
       " (620, 'cannabis'),\n",
       " (621, 'nicotine'),\n",
       " (1116, 'benzos'),\n",
       " (1123, 'legalh'),\n",
       " (1134, 'ecstasy'),\n",
       " (1191, 'mushrooms'),\n",
       " (1198, 'cocaine')]"
      ]
     },
     "execution_count": 10,
     "metadata": {
      "tags": []
     },
     "output_type": "execute_result"
    }
   ],
   "source": [
    "drugs = list(data.columns)[12:]\n",
    "drug_values = []\n",
    "for drug in drugs:\n",
    "    drug_values.append((data[drug].value_counts()[0], drug))\n",
    "drug_values = sorted(drug_values)\n",
    "drug_values[:10]"
   ]
  },
  {
   "cell_type": "markdown",
   "metadata": {
    "id": "Q8VFoLgBWyuD"
   },
   "source": [
    "Как видно, количество людей не употреблявших алкоголь, кофеин и шоколад очень маленькое, и это объяснимо, ведь это не наркотические вещества, а вещества, которые употребляют в обыденности здоровые люди"
   ]
  },
  {
   "cell_type": "markdown",
   "metadata": {
    "id": "mLai_aCGXUsI"
   },
   "source": [
    "Удалим эти признаки, так как не совсем корректно относить такую большую выборку людей к наркоманам, если они употребляют три этих вещества"
   ]
  },
  {
   "cell_type": "code",
   "execution_count": null,
   "metadata": {
    "id": "dEwWseqSWXO-"
   },
   "outputs": [],
   "source": [
    "data = data.drop(columns=['alcohol', 'caffeine', 'chocolate'], axis=1)"
   ]
  },
  {
   "cell_type": "code",
   "execution_count": null,
   "metadata": {
    "id": "H_iTimWmuEMn"
   },
   "outputs": [],
   "source": [
    "drugs.remove('alcohol')\n",
    "drugs.remove('caffeine')\n",
    "drugs.remove('chocolate')"
   ]
  },
  {
   "cell_type": "code",
   "execution_count": null,
   "metadata": {
    "id": "32aAdwWqv8N3"
   },
   "outputs": [],
   "source": [
    "data['use_drugs'] = list(map(lambda x: 1 if sum(x) > 0 else 0, data[drugs].values))"
   ]
  },
  {
   "cell_type": "code",
   "execution_count": null,
   "metadata": {
    "id": "BQL1YTHTwt8J"
   },
   "outputs": [],
   "source": [
    "data = data.drop(drugs, axis=1)"
   ]
  },
  {
   "cell_type": "code",
   "execution_count": null,
   "metadata": {
    "id": "6F2GF3-lPbsS"
   },
   "outputs": [],
   "source": [
    "X = list(data.columns)[:-1]"
   ]
  },
  {
   "cell_type": "code",
   "execution_count": null,
   "metadata": {
    "id": "jhF812jNBz1l"
   },
   "outputs": [],
   "source": [
    "data[X] = data[X].astype(str)"
   ]
  },
  {
   "cell_type": "code",
   "execution_count": null,
   "metadata": {
    "id": "FlD2Io_Q0E7u"
   },
   "outputs": [],
   "source": [
    "data['age'] = data['age'].replace({'-0.9519700000000001': '18-24', '-0.07854': '25-34', '0.49788000000000004': '35-44', '1.09449': '45-54', '1.82213': '55-64', '2.59171': '65+'})"
   ]
  },
  {
   "cell_type": "code",
   "execution_count": null,
   "metadata": {
    "id": "96DyW1j80L80"
   },
   "outputs": [],
   "source": [
    "data['gender'] = data['gender'].replace({'-0.48246000000000006': 'Male', '0.48246000000000006': 'Female'})"
   ]
  },
  {
   "cell_type": "code",
   "execution_count": null,
   "metadata": {
    "id": "nqwdgs070Sap"
   },
   "outputs": [],
   "source": [
    "data['education'] = data['education'].replace({'-0.6111300000000001': 'Educ_without_degree', '0.45468000000000003': 'University_degree', '1.16365': 'Masters_degree',\n",
    "                                            '-0.059210000000000006': 'Professional_diploma', '-1.22751': 'Left_school_at_18_years', '-1.7379': 'Left_school_at_16_years',\n",
    "                                            '1.98437': 'Doctorate_degree', '-1.43719': 'Left_school_at_17 years', '-2.43591': 'Left_school_before_16_years'})"
   ]
  },
  {
   "cell_type": "code",
   "execution_count": null,
   "metadata": {
    "id": "T8Mn8YPh1Nam"
   },
   "outputs": [],
   "source": [
    "data['country'] = data['country'].replace({'0.9608200000000001': 'UK', '-0.57009': 'USA', '-0.28519': 'Other', '0.24923': 'Canada',\n",
    "                                           '-0.09765': 'Australia', '0.21128000000000002': 'Republic_of_Ireland', '-0.46841000000000005': 'New_Zealand'})"
   ]
  },
  {
   "cell_type": "code",
   "execution_count": null,
   "metadata": {
    "id": "1fRU4SnB1bsl"
   },
   "outputs": [],
   "source": [
    "data['ethnicity'] = data['ethnicity'].replace({'-0.31685': 'White', '0.1144': 'Other', '-1.1070200000000001': 'Black', '-0.50212': 'Asian',\n",
    "                                               '-0.22166': 'Mixed-White/Black', '0.126': 'Mixed-White/Asian', '1.90725': 'Mixed-Black/Asian'})"
   ]
  },
  {
   "cell_type": "code",
   "execution_count": null,
   "metadata": {
    "id": "qOMCp5yO1k3F"
   },
   "outputs": [],
   "source": [
    "data['neuroticism'] = data['neuroticism'].replace({'-0.46725': 31, '0.41667': 40, '-0.34799': 32, '0.62967': 42, '-0.14882': 34, '0.04257': 36, '-0.79151': 28,\n",
    "                                                      '-0.051879999999999996': 35, '-0.24649000000000001': 33, '1.02119': 46, '0.13606': 37, '0.31287': 39, \n",
    "                                                      '-0.92104': 27, '0.22393000000000002': 38, '-0.58016': 30, '0.52135': 41, '-0.67825': 29, '-1.05308': 26, \n",
    "                                                      '-1.1943': 25, '0.82562': 44, '1.23461': 48, '0.73545': 43, '1.37297': 49, '0.9109299999999999': 45, '-1.32828': 24, \n",
    "                                                      '-1.69163': 21, '-1.43907': 23, '1.13281': 47, '1.6038299999999999': 51, '-1.5507799999999998': 22, '-1.86962': 20,\n",
    "                                                      '1.49158': 50, '1.8399': 53, '1.72012': 52, '-2.05048': 19, '1.98437': 54, '2.127': 55, '-2.21844': 18, '2.28554': 56,\n",
    "                                                      '-2.75696': 14, '2.4626200000000003': 57, '2.82196': 59, '-2.3436': 17, '-2.52197': 15, '2.61139': 58, '-2.4231700000000003': 16,\n",
    "                                                      '3.27393': 60, '-3.4643599999999997': 12, '-3.15735':13})"
   ]
  },
  {
   "cell_type": "code",
   "execution_count": null,
   "metadata": {
    "id": "1HZIqe55SaLs"
   },
   "outputs": [],
   "source": [
    "data['extraversion'] = data['extraversion'].replace({'0.0033200000000000005': 40, '0.16767': 41, '0.32197': 42, '-0.15487': 39, '-0.30033000000000004': 38, '0.47617': 43,\n",
    "                                                     '0.63779': 44, '0.80523': 45, '-0.43998999999999994': 37, '-0.57545': 36, '-0.9477899999999999': 33, '0.9624799999999999': 46,\n",
    "                                                     '-0.80615': 34, '1.11406': 47, '1.2861': 48, '-0.69509': 35, '-1.23177': 31, '-1.09207': 32, '-1.37639': 30, '1.45421': 49,\n",
    "                                                     '1.74091': 51, '-1.50796': 29, '1.58487': 50, '-1.7625': 27, '-1.6334': 28, '1.9388599999999998': 52, '-1.92173': 26,\n",
    "                                                     '2.127': 53, '2.32338': 54, '2.57309': 55, '-2.11437': 24, '-2.32338':22, '-2.72827': 19, '-2.21069': 23, '-2.03972': 25,\n",
    "                                                     '-2.44904': 21, '-2.5383': 20, '3.27393': 59, '-3.27393': 16, '2.8595': 56, '-3.00537': 18, '3.00537': 58})"
   ]
  },
  {
   "cell_type": "code",
   "execution_count": null,
   "metadata": {
    "id": "cZvo4Ccv-LZD"
   },
   "outputs": [],
   "source": [
    "data['openness'] = data['openness'].replace({'-0.019280000000000002': 46, '0.29338000000000003': 48, '0.14143': 47, '-0.17779': 45, '-0.31776': 44, '0.44585': 49,\n",
    "                                             '0.8830899999999999': 52, '0.7233': 51, '-0.58331': 50, '-0.45174': 43, '0.58331': 42, '1.0623799999999999': 53, '-0.71727': 41,\n",
    "                                             '-0.8473200000000001': 40, '-1.1190200000000001': 38, '1.43533': 55, '-0.97631': 39, '1.24033': 54, '-1.2755299999999998': 37,\n",
    "                                             '-1.42424': 36, '1.6565299999999998': 56, '1.8851099999999998': 57, '-1.55521': 35, '-1.68062': 34, '-1.82919': 33,\n",
    "                                             '2.1532400000000003': 58, '2.44904': 59, '-1.97495': 32, '-2.39883': 29, '-2.21069': 30, '-2.09015': 31, '2.90161': 60,\n",
    "                                             '-2.63199': 28, '-2.8595': 26, '-3.27393': 24})"
   ]
  },
  {
   "cell_type": "code",
   "execution_count": null,
   "metadata": {
    "id": "7Q-zHrlFeguf"
   },
   "outputs": [],
   "source": [
    "data['agreeableness'] = data['agreeableness'].replace({'0.13136': 44, '-0.30172': 41, '0.28783000000000003': 45, '-0.01729': 43, '0.7609600000000001': 38,\n",
    "                                                       '-0.60633': 39, '-0.15487': 42, '0.43851999999999997': 46, '0.59042': 47, '-0.45321000000000006': 40,\n",
    "                                                       '0.9415600000000001': 49, '-0.91699': 37, '-0.7609600000000001': 48, '1.11406': 50, '-1.07533': 36,\n",
    "                                                       '1.2861': 51, '-1.21213': 35, '-1.34289': 34, '1.45039': 52, '1.81866': 54, '1.6110799999999998': 53,\n",
    "                                                       '-1.47955': 33, '-1.6209': 32, '-1.772': 31, '-1.92595': 30, '2.03972': 55, '2.23427': 56, '-2.07848': 29, \n",
    "                                                       '2.4626200000000003': 57, '-2.21844': 28, '2.75696': 58, '-2.35413': 27, '-2.5383': 26, '-2.78793': 24,\n",
    "                                                       '-3.00537': 18, '-3.15735': 16, '3.4643599999999997': 60, '-3.4643599999999997': 12, '-2.70172': 25,\n",
    "                                                       '-2.90161': 23, '3.15735':59})"
   ]
  },
  {
   "cell_type": "code",
   "execution_count": null,
   "metadata": {
    "id": "ccrkd9CRnE3H"
   },
   "outputs": [],
   "source": [
    "data['conscientiousness'] = data['conscientiousness'].replace({'0.5848899999999999': 46, '0.25953000000000004': 44, '0.41594': 45, '-0.00665': 42, '-0.14277': 41,\n",
    "                                                               '-0.27607': 40, '0.9394899999999999': 48, '0.7583': 47, '0.12330999999999999': 43, '-0.40581': 39,\n",
    "                                                               '-0.65253': 37, '-0.52745': 38, '1.1340700000000001': 49, '-0.78155': 36, '-1.0145': 34, '-0.89891': 35,\n",
    "                                                               '-1.13788': 33, '1.3061200000000002': 50, '1.46191': 51, '-1.3850200000000001': 31, '-1.25773': 32,\n",
    "                                                               '1.6308799999999999': 52, '-1.5184': 30, '1.81175': 53, '2.04506': 54, '-1.7816900000000002': 28,\n",
    "                                                               '-1.6410099999999999': 29, '2.33337': 55, '-2.04506': 26, '-1.92173': 27, '-2.18109': 25, '2.63199': 56,\n",
    "                                                               '-2.30408': 24, '-2.4231700000000003': 23, '-2.57309': 22, '-2.90161': 20, '3.00537': 57, '-2.72827': 21,\n",
    "                                                               '3.4643599999999997': 59, '-3.4643599999999997': 17,  '-3.15735':19})"
   ]
  },
  {
   "cell_type": "code",
   "execution_count": null,
   "metadata": {
    "id": "glK3cX0424Rx"
   },
   "outputs": [],
   "source": [
    "data['impulsiveness'] = data['impulsiveness'].replace({'-0.21711999999999998': 1, '-0.71126': 2, '-1.37983': 3, '0.19268': 4, '0.52975': 5, \n",
    "                                                       '0.88113': 6, '1.29221': 7, '1.8620299999999999': 8, '-2.55524': 9, '2.90161': 10})"
   ]
  },
  {
   "cell_type": "code",
   "execution_count": null,
   "metadata": {
    "id": "t1pPiRWw4uR_"
   },
   "outputs": [],
   "source": [
    "data['sensation'] = data['sensation'].replace({'0.40148': 1, '-0.21575': 2, '0.07987000000000001': 3, '-0.52593': 4, '0.7654': 5,\n",
    "                                               '1.2247': 6, '-0.8463700000000001': 7, '-1.18084': 8, '1.92173': 9, '-1.5485799999999998': 10, '-2.07848': 11})"
   ]
  },
  {
   "cell_type": "code",
   "execution_count": null,
   "metadata": {
    "id": "3yMPLsxUFSJz"
   },
   "outputs": [],
   "source": [
    "data['use_drugs'] = data['use_drugs'].replace({1: 'Used', 0: \"Doesn't Used\" })"
   ]
  },
  {
   "cell_type": "code",
   "execution_count": null,
   "metadata": {
    "colab": {
     "base_uri": "https://localhost:8080/",
     "height": 135
    },
    "id": "QEhdYChVe3-Y",
    "outputId": "b40991f2-d39d-4695-99fc-bfcd8be38500"
   },
   "outputs": [
    {
     "data": {
      "text/html": [
       "<div>\n",
       "<style scoped>\n",
       "    .dataframe tbody tr th:only-of-type {\n",
       "        vertical-align: middle;\n",
       "    }\n",
       "\n",
       "    .dataframe tbody tr th {\n",
       "        vertical-align: top;\n",
       "    }\n",
       "\n",
       "    .dataframe thead th {\n",
       "        text-align: right;\n",
       "    }\n",
       "</style>\n",
       "<table border=\"1\" class=\"dataframe\">\n",
       "  <thead>\n",
       "    <tr style=\"text-align: right;\">\n",
       "      <th></th>\n",
       "      <th>age</th>\n",
       "      <th>gender</th>\n",
       "      <th>education</th>\n",
       "      <th>country</th>\n",
       "      <th>ethnicity</th>\n",
       "      <th>neuroticism</th>\n",
       "      <th>extraversion</th>\n",
       "      <th>openness</th>\n",
       "      <th>agreeableness</th>\n",
       "      <th>conscientiousness</th>\n",
       "      <th>impulsiveness</th>\n",
       "      <th>sensation</th>\n",
       "      <th>use_drugs</th>\n",
       "    </tr>\n",
       "  </thead>\n",
       "  <tbody>\n",
       "    <tr>\n",
       "      <th>0</th>\n",
       "      <td>35-44</td>\n",
       "      <td>Female</td>\n",
       "      <td>Professional_diploma</td>\n",
       "      <td>UK</td>\n",
       "      <td>Mixed-White/Asian</td>\n",
       "      <td>39</td>\n",
       "      <td>36</td>\n",
       "      <td>50</td>\n",
       "      <td>37</td>\n",
       "      <td>42</td>\n",
       "      <td>1</td>\n",
       "      <td>8</td>\n",
       "      <td>Used</td>\n",
       "    </tr>\n",
       "    <tr>\n",
       "      <th>1</th>\n",
       "      <td>25-34</td>\n",
       "      <td>Male</td>\n",
       "      <td>Doctorate_degree</td>\n",
       "      <td>UK</td>\n",
       "      <td>White</td>\n",
       "      <td>29</td>\n",
       "      <td>52</td>\n",
       "      <td>55</td>\n",
       "      <td>38</td>\n",
       "      <td>41</td>\n",
       "      <td>2</td>\n",
       "      <td>2</td>\n",
       "      <td>Used</td>\n",
       "    </tr>\n",
       "    <tr>\n",
       "      <th>2</th>\n",
       "      <td>35-44</td>\n",
       "      <td>Male</td>\n",
       "      <td>Professional_diploma</td>\n",
       "      <td>UK</td>\n",
       "      <td>White</td>\n",
       "      <td>31</td>\n",
       "      <td>45</td>\n",
       "      <td>40</td>\n",
       "      <td>32</td>\n",
       "      <td>34</td>\n",
       "      <td>3</td>\n",
       "      <td>1</td>\n",
       "      <td>Used</td>\n",
       "    </tr>\n",
       "  </tbody>\n",
       "</table>\n",
       "</div>"
      ],
      "text/plain": [
       "     age  gender             education  ... impulsiveness sensation  use_drugs\n",
       "0  35-44  Female  Professional_diploma  ...             1         8       Used\n",
       "1  25-34    Male      Doctorate_degree  ...             2         2       Used\n",
       "2  35-44    Male  Professional_diploma  ...             3         1       Used\n",
       "\n",
       "[3 rows x 13 columns]"
      ]
     },
     "execution_count": 30,
     "metadata": {
      "tags": []
     },
     "output_type": "execute_result"
    }
   ],
   "source": [
    "data.head(3)"
   ]
  },
  {
   "cell_type": "markdown",
   "metadata": {
    "id": "qQgbiByt_BDF"
   },
   "source": [
    "# Visualization"
   ]
  },
  {
   "cell_type": "code",
   "execution_count": null,
   "metadata": {
    "colab": {
     "base_uri": "https://localhost:8080/",
     "height": 391
    },
    "id": "XNsZfT6vSi8p",
    "outputId": "a9bcd8e3-a9ab-4ec0-fce2-7db80d88fd88"
   },
   "outputs": [
    {
     "data": {
      "image/png": "[encoded data removed]",
      "text/plain": [
       "<Figure size 576x432 with 1 Axes>"
      ]
     },
     "metadata": {
      "tags": []
     },
     "output_type": "display_data"
    }
   ],
   "source": [
    "plt.figure(figsize=(8, 6))\n",
    "sns.countplot(x='gender', hue='use_drugs', data=data, palette='PRGn');"
   ]
  },
  {
   "cell_type": "code",
   "execution_count": null,
   "metadata": {
    "colab": {
     "base_uri": "https://localhost:8080/",
     "height": 339
    },
    "id": "XaKct8L_SjAy",
    "outputId": "4c3ecf1b-8cb9-4964-e9a1-392c0942c61e"
   },
   "outputs": [
    {
     "data": {
      "image/png": "[encoded data removed]",
      "text/plain": [
       "<Figure size 720x360 with 1 Axes>"
      ]
     },
     "metadata": {
      "tags": []
     },
     "output_type": "display_data"
    }
   ],
   "source": [
    "sns.set(rc={'figure.figsize':(10,5)})\n",
    "plot = sns.countplot(x='use_drugs',hue='education',data=data,palette='Spectral')\n",
    "plot.set_xticklabels([\"Doesn't Used\", 'Used'])\n",
    "plot.set(ylabel = 'Count of Users', xlabel='Use_drugs')\n",
    "plt.legend(title='Education degree', loc='upper right', labels=list(data['education'].value_counts().index));"
   ]
  },
  {
   "cell_type": "code",
   "execution_count": null,
   "metadata": {
    "colab": {
     "base_uri": "https://localhost:8080/",
     "height": 394
    },
    "id": "lLpLUWp5SjJs",
    "outputId": "25c9bbce-1dc1-4e0f-eac7-f6309011858f"
   },
   "outputs": [
    {
     "data": {
      "image/png": "[encoded data removed]",
      "text/plain": [
       "<Figure size 1008x432 with 1 Axes>"
      ]
     },
     "metadata": {
      "tags": []
     },
     "output_type": "display_data"
    }
   ],
   "source": [
    "plt.figure(figsize=(14, 6))\n",
    "sns.countplot(x='country', hue='use_drugs', data=data, palette='YlGnBu')\n",
    "plt.legend(title='use_drugs', loc='upper right');"
   ]
  },
  {
   "cell_type": "code",
   "execution_count": null,
   "metadata": {
    "colab": {
     "base_uri": "https://localhost:8080/",
     "height": 394
    },
    "id": "W5MQCwqBOTXb",
    "outputId": "92fac06d-64f4-4d9e-fba9-d8b75157b0f6"
   },
   "outputs": [
    {
     "data": {
      "image/png": "[encoded data removed]",
      "text/plain": [
       "<Figure size 576x432 with 1 Axes>"
      ]
     },
     "metadata": {
      "tags": []
     },
     "output_type": "display_data"
    }
   ],
   "source": [
    "plt.figure(figsize=(8, 6))\n",
    "sns.countplot(x='age', hue='use_drugs', data=data, palette='YlOrRd');"
   ]
  },
  {
   "cell_type": "code",
   "execution_count": null,
   "metadata": {
    "colab": {
     "base_uri": "https://localhost:8080/",
     "height": 394
    },
    "id": "Hu5qTGxPPsHu",
    "outputId": "fe6f6a2a-8874-491f-a136-378cbdebb64f"
   },
   "outputs": [
    {
     "data": {
      "image/png": "[encoded data removed]",
      "text/plain": [
       "<Figure size 864x432 with 1 Axes>"
      ]
     },
     "metadata": {
      "tags": []
     },
     "output_type": "display_data"
    }
   ],
   "source": [
    "plt.figure(figsize=(12, 6))\n",
    "sns.countplot(x='ethnicity', hue='use_drugs', data=data, palette='RdGy')\n",
    "plt.legend(title='use_drugs', loc='upper right');"
   ]
  },
  {
   "cell_type": "markdown",
   "metadata": {
    "id": "VoaPIg4qS5pH"
   },
   "source": [
    "# Models"
   ]
  },
  {
   "cell_type": "code",
   "execution_count": null,
   "metadata": {
    "id": "ktakFYsyS8LO"
   },
   "outputs": [],
   "source": [
    "data['use_drugs'] = data['use_drugs'].replace({'Used': 1, \"Doesn't Used\": 0})"
   ]
  },
  {
   "cell_type": "code",
   "execution_count": null,
   "metadata": {
    "id": "urIs2nXCS8QC"
   },
   "outputs": [],
   "source": [
    "def encoder(df, column):\n",
    "    le = preprocessing.LabelEncoder()\n",
    "    le.fit(list(df[column]))\n",
    "    le.transform(list(df[column]))\n",
    "    return pd.DataFrame(le.transform(list(df[column])))"
   ]
  },
  {
   "cell_type": "code",
   "execution_count": null,
   "metadata": {
    "id": "mt2-oGp_S8cJ"
   },
   "outputs": [],
   "source": [
    "data['age'] = encoder(data, 'age')\n",
    "data['gender'] = encoder(data, 'gender')\n",
    "data['education'] = encoder(data, 'education')\n",
    "data['country'] = encoder(data, 'country')\n",
    "data['ethnicity'] = encoder(data, 'ethnicity')"
   ]
  },
  {
   "cell_type": "code",
   "execution_count": null,
   "metadata": {
    "colab": {
     "base_uri": "https://localhost:8080/",
     "height": 135
    },
    "id": "g--WVOI6S8sk",
    "outputId": "bb3adb18-0e59-42c6-9ebb-64d364333b85"
   },
   "outputs": [
    {
     "data": {
      "text/html": [
       "<div>\n",
       "<style scoped>\n",
       "    .dataframe tbody tr th:only-of-type {\n",
       "        vertical-align: middle;\n",
       "    }\n",
       "\n",
       "    .dataframe tbody tr th {\n",
       "        vertical-align: top;\n",
       "    }\n",
       "\n",
       "    .dataframe thead th {\n",
       "        text-align: right;\n",
       "    }\n",
       "</style>\n",
       "<table border=\"1\" class=\"dataframe\">\n",
       "  <thead>\n",
       "    <tr style=\"text-align: right;\">\n",
       "      <th></th>\n",
       "      <th>age</th>\n",
       "      <th>gender</th>\n",
       "      <th>education</th>\n",
       "      <th>country</th>\n",
       "      <th>ethnicity</th>\n",
       "      <th>neuroticism</th>\n",
       "      <th>extraversion</th>\n",
       "      <th>openness</th>\n",
       "      <th>agreeableness</th>\n",
       "      <th>conscientiousness</th>\n",
       "      <th>impulsiveness</th>\n",
       "      <th>sensation</th>\n",
       "      <th>use_drugs</th>\n",
       "    </tr>\n",
       "  </thead>\n",
       "  <tbody>\n",
       "    <tr>\n",
       "      <th>0</th>\n",
       "      <td>2</td>\n",
       "      <td>0</td>\n",
       "      <td>7</td>\n",
       "      <td>5</td>\n",
       "      <td>3</td>\n",
       "      <td>39</td>\n",
       "      <td>36</td>\n",
       "      <td>50</td>\n",
       "      <td>37</td>\n",
       "      <td>42</td>\n",
       "      <td>1</td>\n",
       "      <td>8</td>\n",
       "      <td>1</td>\n",
       "    </tr>\n",
       "    <tr>\n",
       "      <th>1</th>\n",
       "      <td>1</td>\n",
       "      <td>1</td>\n",
       "      <td>0</td>\n",
       "      <td>5</td>\n",
       "      <td>6</td>\n",
       "      <td>29</td>\n",
       "      <td>52</td>\n",
       "      <td>55</td>\n",
       "      <td>38</td>\n",
       "      <td>41</td>\n",
       "      <td>2</td>\n",
       "      <td>2</td>\n",
       "      <td>1</td>\n",
       "    </tr>\n",
       "    <tr>\n",
       "      <th>2</th>\n",
       "      <td>2</td>\n",
       "      <td>1</td>\n",
       "      <td>7</td>\n",
       "      <td>5</td>\n",
       "      <td>6</td>\n",
       "      <td>31</td>\n",
       "      <td>45</td>\n",
       "      <td>40</td>\n",
       "      <td>32</td>\n",
       "      <td>34</td>\n",
       "      <td>3</td>\n",
       "      <td>1</td>\n",
       "      <td>1</td>\n",
       "    </tr>\n",
       "  </tbody>\n",
       "</table>\n",
       "</div>"
      ],
      "text/plain": [
       "   age  gender  education  ...  impulsiveness  sensation  use_drugs\n",
       "0    2       0          7  ...              1          8          1\n",
       "1    1       1          0  ...              2          2          1\n",
       "2    2       1          7  ...              3          1          1\n",
       "\n",
       "[3 rows x 13 columns]"
      ]
     },
     "execution_count": 39,
     "metadata": {
      "tags": []
     },
     "output_type": "execute_result"
    }
   ],
   "source": [
    "data.head(3)"
   ]
  },
  {
   "cell_type": "code",
   "execution_count": null,
   "metadata": {
    "id": "AkCDD9NLOTZ8"
   },
   "outputs": [],
   "source": [
    "X = data.drop('use_drugs', axis=1)\n",
    "y = data['use_drugs']"
   ]
  },
  {
   "cell_type": "code",
   "execution_count": null,
   "metadata": {
    "id": "t4hbkEUoaolf"
   },
   "outputs": [],
   "source": [
    "X_train, X_test, y_train, y_test = train_test_split(X, y, train_size=0.8, test_size=0.2, random_state=42)"
   ]
  },
  {
   "cell_type": "markdown",
   "metadata": {
    "id": "ihbOnPeWbzcY"
   },
   "source": [
    "Посмотрим на соотношение классов в датасете:"
   ]
  },
  {
   "cell_type": "code",
   "execution_count": null,
   "metadata": {
    "colab": {
     "base_uri": "https://localhost:8080/"
    },
    "id": "rHgXQPXGcAM6",
    "outputId": "f93d3082-2743-49db-a77d-306280a3595d"
   },
   "outputs": [
    {
     "data": {
      "text/plain": [
       "1    1553\n",
       "0     332\n",
       "Name: use_drugs, dtype: int64"
      ]
     },
     "execution_count": 42,
     "metadata": {
      "tags": []
     },
     "output_type": "execute_result"
    }
   ],
   "source": [
    "data['use_drugs'].value_counts()"
   ]
  },
  {
   "cell_type": "markdown",
   "metadata": {
    "id": "sfa63_NVcI5q"
   },
   "source": [
    "Видно, что классы несбалансированы. Будем максимизировать метрику precision, она хорошо справляется в задачах с подобным соотношением классов, что не скажешь про похожую метрику accuracy"
   ]
  },
  {
   "cell_type": "markdown",
   "metadata": {
    "id": "YAAwUd5jbdVy"
   },
   "source": [
    "### Model 1 (Baseline)"
   ]
  },
  {
   "cell_type": "markdown",
   "metadata": {
    "id": "eW6QgjJ5cvjL"
   },
   "source": [
    "Первым делом запустим бейзлайн модель - будем предсказывать самый популярный класс"
   ]
  },
  {
   "cell_type": "code",
   "execution_count": null,
   "metadata": {
    "id": "ofzFJvj4eKWo"
   },
   "outputs": [],
   "source": [
    "popular_class = data['use_drugs'].value_counts().index[0]\n",
    "y_pred_base = np.array([popular_class]  * len(y_test))"
   ]
  },
  {
   "cell_type": "code",
   "execution_count": null,
   "metadata": {
    "colab": {
     "base_uri": "https://localhost:8080/"
    },
    "id": "rnkssg1UbWb8",
    "outputId": "e13c1b17-b291-4536-ee09-dfeafbcfa250"
   },
   "outputs": [
    {
     "data": {
      "text/plain": [
       "0.8275862068965517"
      ]
     },
     "execution_count": 44,
     "metadata": {
      "tags": []
     },
     "output_type": "execute_result"
    }
   ],
   "source": [
    "precision_score(y_test, y_pred_base)"
   ]
  },
  {
   "cell_type": "markdown",
   "metadata": {
    "id": "n1AgczRofmrR"
   },
   "source": [
    "### Model 2 (Логистическая регрессия)"
   ]
  },
  {
   "cell_type": "code",
   "execution_count": null,
   "metadata": {
    "colab": {
     "base_uri": "https://localhost:8080/"
    },
    "id": "TT93Y_XRfpKD",
    "outputId": "0c18dac4-f1eb-4e06-e5e6-76511e86b5c7"
   },
   "outputs": [
    {
     "data": {
      "text/plain": [
       "0.9273504273504274"
      ]
     },
     "execution_count": 45,
     "metadata": {
      "tags": []
     },
     "output_type": "execute_result"
    }
   ],
   "source": [
    "model_logreg = LogisticRegression(random_state=42, class_weight={0: 5, 1: 1})\n",
    "model_logreg.fit(X_train, y_train)\n",
    "y_pred_logreg = model_logreg.predict(X_test)\n",
    "precision_score(y_test, y_pred_logreg)"
   ]
  },
  {
   "cell_type": "markdown",
   "metadata": {
    "id": "ISbW_w9wg9ZU"
   },
   "source": [
    "### Model 3 (Случайный лес)"
   ]
  },
  {
   "cell_type": "code",
   "execution_count": null,
   "metadata": {
    "colab": {
     "base_uri": "https://localhost:8080/"
    },
    "id": "wh5mkuvjfpUt",
    "outputId": "6820b05b-16fa-4d66-d72a-8cfffdc718b4"
   },
   "outputs": [
    {
     "data": {
      "text/plain": [
       "0.8629737609329446"
      ]
     },
     "execution_count": 46,
     "metadata": {
      "tags": []
     },
     "output_type": "execute_result"
    }
   ],
   "source": [
    "model_rfc = RandomForestClassifier(random_state=42)\n",
    "model_rfc.fit(X_train, y_train)\n",
    "y_pred_rfc = model_rfc.predict(X_test)\n",
    "precision_score(y_test, y_pred_rfc)"
   ]
  },
  {
   "cell_type": "code",
   "execution_count": null,
   "metadata": {
    "id": "bMPVUW5h3l5x"
   },
   "outputs": [],
   "source": [
    "def feature_import(model, color):\n",
    "    feats = {}\n",
    "    for feature, importance in zip(data.columns, model.feature_importances_):\n",
    "        feats[feature] = importance\n",
    "    importances = pd.DataFrame.from_dict(feats, orient='index').rename(columns={0: 'Gini-Importance'})\n",
    "    importances = importances.sort_values(by='Gini-Importance', ascending=False)\n",
    "    importances = importances.reset_index()\n",
    "    importances = importances.rename(columns={'index': 'Features'})\n",
    "    sns.set(font_scale = 3)\n",
    "    sns.set(style=\"whitegrid\", color_codes=True, font_scale = 1.7)\n",
    "    fig, ax = plt.subplots()\n",
    "    fig.set_size_inches(7,5)\n",
    "    sns.barplot(x=importances['Gini-Importance'], y=importances['Features'], data=importances, color=color)\n",
    "    plt.xlabel('Importance', fontsize=14, weight = 'bold')\n",
    "    plt.ylabel('Features', fontsize=14, weight = 'bold')\n",
    "    plt.title('Feature Importance', fontsize=16, weight = 'bold');"
   ]
  },
  {
   "cell_type": "code",
   "execution_count": null,
   "metadata": {
    "colab": {
     "base_uri": "https://localhost:8080/",
     "height": 367
    },
    "id": "QEW8b7Dc43Z2",
    "outputId": "21971bc3-6385-410d-d4c6-8f025d01b332"
   },
   "outputs": [
    {
     "data": {
      "image/png": "[encoded data removed]",
      "text/plain": [
       "<Figure size 504x360 with 1 Axes>"
      ]
     },
     "metadata": {
      "tags": []
     },
     "output_type": "display_data"
    }
   ],
   "source": [
    "feature_import(model_rfc, \"#B881F7\")"
   ]
  },
  {
   "cell_type": "markdown",
   "metadata": {
    "id": "pVspkfgijYNe"
   },
   "source": [
    "### Model 4 (Градиентный бустинг от XGBoost)"
   ]
  },
  {
   "cell_type": "code",
   "execution_count": null,
   "metadata": {
    "colab": {
     "base_uri": "https://localhost:8080/"
    },
    "id": "HRHZPX72fpfD",
    "outputId": "68a8018a-3e1a-4c83-bc6b-d031256f6861"
   },
   "outputs": [
    {
     "data": {
      "text/plain": [
       "0.8584070796460177"
      ]
     },
     "execution_count": 49,
     "metadata": {
      "tags": []
     },
     "output_type": "execute_result"
    }
   ],
   "source": [
    "model_xgb = XGBClassifier(random_state=42)\n",
    "model_xgb.fit(X_train, y_train)\n",
    "y_pred_xgb = model_xgb.predict(X_test)\n",
    "precision_score(y_test, y_pred_xgb)"
   ]
  },
  {
   "cell_type": "code",
   "execution_count": null,
   "metadata": {
    "colab": {
     "base_uri": "https://localhost:8080/",
     "height": 367
    },
    "id": "INxnDw0x5vNw",
    "outputId": "3208181d-6ce0-49cb-812e-3b076185f4c1"
   },
   "outputs": [
    {
     "data": {
      "image/png": "[encoded data removed]",
      "text/plain": [
       "<Figure size 504x360 with 1 Axes>"
      ]
     },
     "metadata": {
      "tags": []
     },
     "output_type": "display_data"
    }
   ],
   "source": [
    "feature_import(model_xgb, \"#F06C6C\")"
   ]
  },
  {
   "cell_type": "markdown",
   "metadata": {
    "id": "Fh3L0jlHlM8K"
   },
   "source": [
    "### Model 5 (Градиентный бустинг от LightGBM)"
   ]
  },
  {
   "cell_type": "code",
   "execution_count": null,
   "metadata": {
    "colab": {
     "base_uri": "https://localhost:8080/"
    },
    "id": "mVNMT0RCfpgm",
    "outputId": "5e44939d-4254-4a57-8ccc-056a0f5d6bcb"
   },
   "outputs": [
    {
     "data": {
      "text/plain": [
       "0.8738461538461538"
      ]
     },
     "execution_count": 51,
     "metadata": {
      "tags": []
     },
     "output_type": "execute_result"
    }
   ],
   "source": [
    "model_lgbm = LGBMClassifier(random_state=42)\n",
    "model_lgbm.fit(X_train, y_train)\n",
    "y_pred_lgbm = model_lgbm.predict(X_test)\n",
    "precision_score(y_test, y_pred_lgbm)"
   ]
  },
  {
   "cell_type": "code",
   "execution_count": null,
   "metadata": {
    "colab": {
     "base_uri": "https://localhost:8080/",
     "height": 367
    },
    "id": "G5ouHGbE6Tre",
    "outputId": "65f708fd-ebe8-4705-e328-b168dbfb420e"
   },
   "outputs": [
    {
     "data": {
      "image/png": "[encoded data removed]",
      "text/plain": [
       "<Figure size 504x360 with 1 Axes>"
      ]
     },
     "metadata": {
      "tags": []
     },
     "output_type": "display_data"
    }
   ],
   "source": [
    "feature_import(model_lgbm, \"#57CBB6\")"
   ]
  },
  {
   "cell_type": "markdown",
   "metadata": {
    "id": "fR8Oy-k-l0i6"
   },
   "source": [
    "### Model 6 (Градиентный бустинг от Яндекса)"
   ]
  },
  {
   "cell_type": "code",
   "execution_count": null,
   "metadata": {
    "colab": {
     "base_uri": "https://localhost:8080/"
    },
    "id": "gbgo5Afflz07",
    "outputId": "93b78c73-f78a-4e36-8d7c-cfa85f6dfb51"
   },
   "outputs": [
    {
     "data": {
      "text/plain": [
       "0.8746268656716418"
      ]
     },
     "execution_count": 53,
     "metadata": {
      "tags": []
     },
     "output_type": "execute_result"
    }
   ],
   "source": [
    "model_cbc = CatBoostClassifier(random_state=42, silent=True)\n",
    "model_cbc.fit(X_train, y_train)\n",
    "y_pred_cbc = model_cbc.predict(X_test)\n",
    "precision_score(y_test, y_pred_cbc)"
   ]
  },
  {
   "cell_type": "code",
   "execution_count": null,
   "metadata": {
    "colab": {
     "base_uri": "https://localhost:8080/",
     "height": 367
    },
    "id": "BOrCybe96irx",
    "outputId": "bae6bb5f-069e-4cc6-dac4-a666fb5fcdc7"
   },
   "outputs": [
    {
     "data": {
      "image/png": "[encoded data removed]",
      "text/plain": [
       "<Figure size 504x360 with 1 Axes>"
      ]
     },
     "metadata": {
      "tags": []
     },
     "output_type": "display_data"
    }
   ],
   "source": [
    "feature_import(model_cbc, \"#F89D62\")"
   ]
  },
  {
   "cell_type": "markdown",
   "metadata": {
    "id": "ucSVmHj_iioh"
   },
   "source": [
    "**Мини-Вывод**: самой лучшей моделью оказалась логистическая регрессия, попробуем дальше чуть-чуть улучшить эту модель"
   ]
  },
  {
   "cell_type": "markdown",
   "metadata": {
    "id": "xxMI0RYri-4m"
   },
   "source": [
    "### Логистическая регрессия"
   ]
  },
  {
   "cell_type": "markdown",
   "metadata": {
    "id": "nYPT9OahBfWJ"
   },
   "source": [
    "feature engineering: Попробуем перемножить между собой некоторые признаки, а какие-то возвести в квадрат"
   ]
  },
  {
   "cell_type": "code",
   "execution_count": null,
   "metadata": {
    "id": "6jb_hTD37CME"
   },
   "outputs": [],
   "source": [
    "data['gender_ethnicity'] = data['gender'] * data['ethnicity']\n",
    "data['ethnicity * ethnicity'] = data['ethnicity'] * data['ethnicity']"
   ]
  },
  {
   "cell_type": "code",
   "execution_count": null,
   "metadata": {
    "id": "OGJ38u597bER"
   },
   "outputs": [],
   "source": [
    "X_fe = data.drop('use_drugs', axis=1)\n",
    "y_fe = data['use_drugs']"
   ]
  },
  {
   "cell_type": "code",
   "execution_count": null,
   "metadata": {
    "id": "E35jOOvZ7m9w"
   },
   "outputs": [],
   "source": [
    "X_train_fe, X_test_fe, y_train_fe, y_test_fe = train_test_split(X_fe, y_fe, train_size=0.8, test_size=0.2, random_state=42)"
   ]
  },
  {
   "cell_type": "code",
   "execution_count": null,
   "metadata": {
    "colab": {
     "base_uri": "https://localhost:8080/"
    },
    "id": "nNstSLRXA0mB",
    "outputId": "182dfd3f-0c78-4abd-be28-82b947a42812"
   },
   "outputs": [
    {
     "data": {
      "text/plain": [
       "0.9356223175965666"
      ]
     },
     "execution_count": 58,
     "metadata": {
      "tags": []
     },
     "output_type": "execute_result"
    }
   ],
   "source": [
    "model_logreg_fe = LogisticRegression(random_state=42, class_weight={0: 5, 1: 1})\n",
    "model_logreg_fe.fit(X_train_fe, y_train_fe)\n",
    "y_pred_logreg_fe = model_logreg_fe.predict(X_test_fe)\n",
    "precision_score(y_test_fe, y_pred_logreg_fe)"
   ]
  },
  {
   "cell_type": "markdown",
   "metadata": {
    "id": "owLUjo28OdaL"
   },
   "source": [
    "**ВЫВОД**: Данная задача была сведена к бинарной классификации, в которой уже была проведена предобработка данных, визуальный анализ признаков от таргет переменной и далее построение множества моделей и выбора лучшей из них. Лучшей оказалась **логистическая регрессия** и показала качество метрики **precision = 0.9356**"
   ]
  },
  {
   "cell_type": "markdown",
   "metadata": {
    "id": "uFrmELoEMdX2"
   },
   "source": [
    "###**Задание №4.** Предположим, что мы построили рекомендательную систему, и ожидаем, что средний чек клиента вследствие этого должен вырасти. Мы провели AB-тест и собрали данные по контрольной и тестовой группе. Предложите и проведите статистический тест, который можно применить к этим данным.\n",
    "В процессе выполнения задания разрешено пользоваться библиотеками scipy и statsmodels."
   ]
  },
  {
   "cell_type": "code",
   "execution_count": null,
   "metadata": {
    "id": "ViwZxe1uSLwG"
   },
   "outputs": [],
   "source": [
    "import numpy as np\n",
    "from scipy.stats import ttest_ind\n",
    "\n",
    "# Сгенерируем данные для задачи\n",
    "control = np.random.lognormal(mean=5, sigma=2, size=(100000,))\n",
    "test = np.random.lognormal(mean=5.04, sigma=2, size=(100000,))"
   ]
  },
  {
   "cell_type": "markdown",
   "metadata": {
    "id": "MBYVdJQL-nyG"
   },
   "source": [
    "Будем проводить **t-критерий Стьюдента** для проверки различия между выборками. Нулевая гипотеза предполагает, что разница между средними значениями показателя в выборках незначительна. Альтернативная гипотеза предполагает наличие существенной разницы между средними значениями.Уровень значимости α = 0,05."
   ]
  },
  {
   "cell_type": "code",
   "execution_count": null,
   "metadata": {
    "colab": {
     "base_uri": "https://localhost:8080/"
    },
    "id": "NjiqFyLD3IDx",
    "outputId": "67f86388-acf6-4da7-8c9e-29bc47a6f19b"
   },
   "outputs": [
    {
     "data": {
      "text/plain": [
       "count    100000.000000\n",
       "mean       1099.804352\n",
       "std        6247.216626\n",
       "min           0.055449\n",
       "25%          38.134044\n",
       "50%         147.330426\n",
       "75%         574.817999\n",
       "max      540216.828193\n",
       "dtype: float64"
      ]
     },
     "execution_count": 7,
     "metadata": {
      "tags": []
     },
     "output_type": "execute_result"
    }
   ],
   "source": [
    "pd.Series(control).describe()"
   ]
  },
  {
   "cell_type": "code",
   "execution_count": null,
   "metadata": {
    "colab": {
     "base_uri": "https://localhost:8080/"
    },
    "id": "jTJyxp0c9Jzh",
    "outputId": "3dfb50a8-f86d-41ff-af76-ca99f27771e4"
   },
   "outputs": [
    {
     "data": {
      "text/plain": [
       "count    100000.000000\n",
       "mean       1101.586694\n",
       "std        6083.896311\n",
       "min           0.029479\n",
       "25%          39.820482\n",
       "50%         154.136661\n",
       "75%         594.421014\n",
       "max      688725.173798\n",
       "dtype: float64"
      ]
     },
     "execution_count": 9,
     "metadata": {
      "tags": []
     },
     "output_type": "execute_result"
    }
   ],
   "source": [
    "pd.Series(test).describe()"
   ]
  },
  {
   "cell_type": "code",
   "execution_count": null,
   "metadata": {
    "colab": {
     "base_uri": "https://localhost:8080/"
    },
    "id": "D_Rkxia_62Zj",
    "outputId": "07f88797-ade1-414e-c7c8-a32c7512807e"
   },
   "outputs": [
    {
     "data": {
      "text/plain": [
       "Ttest_indResult(statistic=-0.064634699476046, pvalue=0.9484649208741254)"
      ]
     },
     "execution_count": 8,
     "metadata": {
      "tags": []
     },
     "output_type": "execute_result"
    }
   ],
   "source": [
    "ttest_ind(control, test)"
   ]
  },
  {
   "cell_type": "markdown",
   "metadata": {
    "id": "h1YvUtb9_97t"
   },
   "source": [
    "Как видим - различия статистически не значимы"
   ]
  },
  {
   "cell_type": "markdown",
   "metadata": {
    "id": "r2sxFeLbAGor"
   },
   "source": [
    "Попробуем воспользоваться также онлайн-калькулятором:"
   ]
  },
  {
   "cell_type": "markdown",
   "metadata": {
    "id": "c6L0jaI4AUc2"
   },
   "source": [
    "![стьюдент.png](data:image/png;base64,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)"
   ]
  },
  {
   "cell_type": "markdown",
   "metadata": {
    "id": "Md2HnB8oAdcr"
   },
   "source": [
    "Ссылка на калькулятор: https://medstatistic.ru/calculators/averagestudent.html"
   ]
  }
 ],
 "metadata": {
  "colab": {
   "collapsed_sections": [],
   "name": "Копия блокнота \"Тестовое задание_Комаров.ipynb\"",
   "provenance": []
  },
  "kernelspec": {
   "display_name": "Python 3",
   "language": "python",
   "name": "python3"
  },
  "language_info": {
   "codemirror_mode": {
    "name": "ipython",
    "version": 3
   },
   "file_extension": ".py",
   "mimetype": "text/x-python",
   "name": "python",
   "nbconvert_exporter": "python",
   "pygments_lexer": "ipython3",
   "version": "3.8.5"
  }
 },
 "nbformat": 4,
 "nbformat_minor": 1
}
